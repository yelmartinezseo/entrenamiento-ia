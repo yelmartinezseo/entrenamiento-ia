{
  "nbformat": 4,
  "nbformat_minor": 0,
  "metadata": {
    "colab": {
      "provenance": [],
      "authorship_tag": "ABX9TyPqTm5yxXSirSlrkBbJVDHs",
      "include_colab_link": true
    },
    "kernelspec": {
      "name": "python3",
      "display_name": "Python 3"
    },
    "language_info": {
      "name": "python"
    }
  },
  "cells": [
    {
      "cell_type": "markdown",
      "metadata": {
        "id": "view-in-github",
        "colab_type": "text"
      },
      "source": [
        "<a href=\"https://colab.research.google.com/github/yelmartinezseo/entrenamiento-ia/blob/main/T%C3%A9cnicas_de_aprendizaje_por_refuerzo_Q_Learning_y_SARSA.ipynb\" target=\"_parent\"><img src=\"https://colab.research.google.com/assets/colab-badge.svg\" alt=\"Open In Colab\"/></a>"
      ]
    },
    {
      "cell_type": "code",
      "execution_count": null,
      "metadata": {
        "id": "-Wd2DUKF39_-"
      },
      "outputs": [],
      "source": [
        "import numpy as np\n",
        "\n",
        "# Parámetros\n",
        "num_states = 5\n",
        "num_actions = 2  # 0: quedarse quieto, 1: moverse a la derecha\n",
        "num_episodes = 100\n",
        "alpha = 0.1\n",
        "gamma = 0.9\n",
        "\n",
        "# Inicialización de la tabla Q\n",
        "q_table = np.zeros((num_states, num_actions))\n",
        "\n",
        "# Algoritmo Q-Learning\n",
        "for episode in range(num_episodes):\n",
        "    state = 0  # Inicio en el estado 0\n",
        "\n",
        "    while state < num_states - 1:\n",
        "        # Seleccionar acción: aquí usaremos una estrategia simple que siempre elige moverse a la derecha\n",
        "        action = 1  # Siempre intenta moverse a la derecha\n",
        "\n",
        "        # Tomar acción y observar el nuevo estado y recompensa\n",
        "        next_state = state + action\n",
        "        reward = 1 if next_state == num_states - 1 else 0\n",
        "\n",
        "        # Actualizar Q-Table usando la fórmula Q-Learning\n",
        "        q_table[state, action] = q_table[state, action] + alpha * (reward + gamma * np.max(q_table[next_state]) - q_table[state, action])\n",
        "\n",
        "        # Mover al siguiente estado\n",
        "        state = next_state\n",
        "\n",
        "print(\"Q-Table después del entrenamiento (Q-Learning):\")\n",
        "print(q_table)"
      ]
    }
  ]
}